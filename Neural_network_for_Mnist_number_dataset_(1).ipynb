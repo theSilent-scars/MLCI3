{
  "nbformat": 4,
  "nbformat_minor": 0,
  "metadata": {
    "kernelspec": {
      "name": "python3",
      "display_name": "Python 3"
    },
    "toc": {
      "nav_menu": {},
      "number_sections": true,
      "sideBar": true,
      "skip_h1_title": false,
      "toc_cell": true,
      "toc_position": {},
      "toc_section_display": "block",
      "toc_window_display": false
    },
    "colab": {
      "provenance": [],
      "include_colab_link": true
    },
    "accelerator": "GPU"
  },
  "cells": [
    {
      "cell_type": "markdown",
      "metadata": {
        "id": "view-in-github",
        "colab_type": "text"
      },
      "source": [
        "<a href=\"https://colab.research.google.com/github/Teena1302/Machine_Learning_Lab/blob/main/Neural_network_for_Mnist_number_dataset_(1).ipynb\" target=\"_parent\"><img src=\"https://colab.research.google.com/assets/colab-badge.svg\" alt=\"Open In Colab\"/></a>"
      ]
    },
    {
      "cell_type": "markdown",
      "source": [
        "\n",
        "\n",
        "\n",
        "\n",
        "\n"
      ],
      "metadata": {
        "id": "aK_1LHdwQpF9"
      }
    },
    {
      "cell_type": "markdown",
      "metadata": {
        "id": "view-in-github"
      },
      "source": [
        "<a href=\"https://colab.research.google.com/github/Mustafalw02/Machine-Learning-Lab-Work/blob/master/Neural_network_for_Mnist_number_dataset.ipynb\" target=\"_parent\"><img src=\"https://colab.research.google.com/assets/colab-badge.svg\" alt=\"Open In Colab\"/></a>"
      ]
    },
    {
      "cell_type": "markdown",
      "metadata": {
        "toc": true,
        "id": "zQvT7bhRzp4e"
      },
      "source": [
        "<h1>Table of Contents<span class=\"tocSkip\"></span></h1>\n",
        "<div class=\"toc\" style=\"margin-top: 1em;\"><ul class=\"toc-item\"><li><span><a href=\"#Loading-the-MNIST-dataset-in-Keras\" data-toc-modified-id=\"Loading-the-MNIST-dataset-in-Keras-1\"><span class=\"toc-item-num\">1&nbsp;&nbsp;</span>Loading the MNIST dataset in Keras</a></span></li><li><span><a href=\"#The-network-architecture\" data-toc-modified-id=\"The-network-architecture-2\"><span class=\"toc-item-num\">2&nbsp;&nbsp;</span>The network architecture</a></span></li><li><span><a href=\"#The-compilation-step\" data-toc-modified-id=\"The-compilation-step-3\"><span class=\"toc-item-num\">3&nbsp;&nbsp;</span>The compilation step</a></span></li><li><span><a href=\"#Preparing-the-image-data\" data-toc-modified-id=\"Preparing-the-image-data-4\"><span class=\"toc-item-num\">4&nbsp;&nbsp;</span>Preparing the image data</a></span></li><li><span><a href=\"#Preparing-the-labels\" data-toc-modified-id=\"Preparing-the-labels-5\"><span class=\"toc-item-num\">5&nbsp;&nbsp;</span>Preparing the labels</a></span></li><li><span><a href=\"#Training-and-Testing\" data-toc-modified-id=\"Training-and-Testing-6\"><span class=\"toc-item-num\">6&nbsp;&nbsp;</span>Training and Testing</a></span></li></ul></div>"
      ]
    },
    {
      "cell_type": "markdown",
      "metadata": {
        "id": "GSee4zKUzp4i"
      },
      "source": [
        "# Loading the MNIST dataset in Keras"
      ]
    },
    {
      "cell_type": "code",
      "metadata": {
        "id": "6a8IveFHzp4l"
      },
      "source": [
        "from keras.datasets import mnist"
      ],
      "execution_count": 1,
      "outputs": []
    },
    {
      "cell_type": "code",
      "metadata": {
        "id": "LQPmnZ8xzp4v",
        "colab": {
          "base_uri": "https://localhost:8080/"
        },
        "outputId": "8d022a62-e6b5-46a8-f298-9ccc8d15b03b"
      },
      "source": [
        "(train_images, train_labels), (test_images, test_labels) = mnist.load_data()"
      ],
      "execution_count": 2,
      "outputs": [
        {
          "output_type": "stream",
          "name": "stdout",
          "text": [
            "Downloading data from https://storage.googleapis.com/tensorflow/tf-keras-datasets/mnist.npz\n",
            "11490434/11490434 [==============================] - 1s 0us/step\n"
          ]
        }
      ]
    },
    {
      "cell_type": "markdown",
      "metadata": {
        "id": "mnZfS9HYzp4z"
      },
      "source": [
        "- The images are encoded as Numpy arrays, and the labels are an array of digits, ranging from 0 to 9."
      ]
    },
    {
      "cell_type": "code",
      "metadata": {
        "id": "VFdoffSmzp41",
        "colab": {
          "base_uri": "https://localhost:8080/"
        },
        "outputId": "cda723ea-f567-40d4-a8db-8e0635538444"
      },
      "source": [
        "train_images.shape\n"
      ],
      "execution_count": 3,
      "outputs": [
        {
          "output_type": "execute_result",
          "data": {
            "text/plain": [
              "(60000, 28, 28)"
            ]
          },
          "metadata": {},
          "execution_count": 3
        }
      ]
    },
    {
      "cell_type": "code",
      "metadata": {
        "id": "tD65nC-vzp45",
        "colab": {
          "base_uri": "https://localhost:8080/"
        },
        "outputId": "33b812a0-288d-493c-876c-c5f48b978069"
      },
      "source": [
        "len(train_labels)"
      ],
      "execution_count": 4,
      "outputs": [
        {
          "output_type": "execute_result",
          "data": {
            "text/plain": [
              "60000"
            ]
          },
          "metadata": {},
          "execution_count": 4
        }
      ]
    },
    {
      "cell_type": "code",
      "metadata": {
        "id": "IX9LpWNazp4_",
        "colab": {
          "base_uri": "https://localhost:8080/"
        },
        "outputId": "ff0eee8f-6253-431c-dba0-f0ca6e16f83d"
      },
      "source": [
        "train_labels"
      ],
      "execution_count": 5,
      "outputs": [
        {
          "output_type": "execute_result",
          "data": {
            "text/plain": [
              "array([5, 0, 4, ..., 5, 6, 8], dtype=uint8)"
            ]
          },
          "metadata": {},
          "execution_count": 5
        }
      ]
    },
    {
      "cell_type": "code",
      "metadata": {
        "id": "SG0L5p4Dzp5D",
        "colab": {
          "base_uri": "https://localhost:8080/"
        },
        "outputId": "aad83e4a-d12a-46cd-8d94-93da1d55825f"
      },
      "source": [
        "test_images.shape"
      ],
      "execution_count": 6,
      "outputs": [
        {
          "output_type": "execute_result",
          "data": {
            "text/plain": [
              "(10000, 28, 28)"
            ]
          },
          "metadata": {},
          "execution_count": 6
        }
      ]
    },
    {
      "cell_type": "code",
      "metadata": {
        "id": "MimOH_Xnzp5I",
        "colab": {
          "base_uri": "https://localhost:8080/"
        },
        "outputId": "5d4fdf40-11cd-4deb-8142-3cf64993e331"
      },
      "source": [
        "len(test_labels)"
      ],
      "execution_count": 7,
      "outputs": [
        {
          "output_type": "execute_result",
          "data": {
            "text/plain": [
              "10000"
            ]
          },
          "metadata": {},
          "execution_count": 7
        }
      ]
    },
    {
      "cell_type": "code",
      "metadata": {
        "id": "8EHR0v0Bzp5M",
        "colab": {
          "base_uri": "https://localhost:8080/"
        },
        "outputId": "f4f1256b-442c-44ca-c224-363de1c7e877"
      },
      "source": [
        "test_labels"
      ],
      "execution_count": 8,
      "outputs": [
        {
          "output_type": "execute_result",
          "data": {
            "text/plain": [
              "array([7, 2, 1, ..., 4, 5, 6], dtype=uint8)"
            ]
          },
          "metadata": {},
          "execution_count": 8
        }
      ]
    },
    {
      "cell_type": "markdown",
      "metadata": {
        "id": "s0Tp6nDRzp5R"
      },
      "source": [
        "Let's build the network"
      ]
    },
    {
      "cell_type": "markdown",
      "metadata": {
        "id": "WxbJXg2Czp5T"
      },
      "source": [
        "# The network architecture"
      ]
    },
    {
      "cell_type": "markdown",
      "metadata": {
        "id": "kGCxNrDdzp5U"
      },
      "source": [
        "- The core building block of neural networks is the **layer**, a data-processing module that you can think of as a filter for data.\n",
        "    - Some data goes in, and it comes out in a more useful form.\n",
        "    - Layers extract **representations** (hopefully, meaningful for the data problem at hand) out of the data fed into them.\n",
        "    \n",
        "- Most of deep learning consists of chaining together simple layers that will implement a form of progressive **data distillation**.\n",
        "- A deep learning model is like a sieve for data-processing, made of a succession of increasingly refined data filters--**the layers**."
      ]
    },
    {
      "cell_type": "code",
      "metadata": {
        "id": "uyUqGjPTzp5V"
      },
      "source": [
        "from keras import models\n",
        "from keras import layers"
      ],
      "execution_count": 9,
      "outputs": []
    },
    {
      "cell_type": "code",
      "metadata": {
        "id": "NEVk0S9_zp5a",
        "colab": {
          "base_uri": "https://localhost:8080/"
        },
        "outputId": "2d803863-02e0-48c2-98a4-ef73ae23ac2e"
      },
      "source": [
        "network = models.Sequential()\n",
        "# Dense(32) is a fully-connected layer with 32 hidden units.\n",
        "# in the first layer, you must specify the expected input data shape :\n",
        "# here, 28 X 28=784 -dimensional vectors.\n",
        "network.add(layers.Dense(32, activation='sigmoid', input_shape=(28 * 28, )))\n",
        "network.add(layers.Dense(8, activation='sigmoid'))\n",
        "network.add(layers.Dense(16, activation='sigmoid'))\n",
        "network.add(layers.Dense(10, activation='softmax'))\n",
        "network.summary()"
      ],
      "execution_count": 11,
      "outputs": [
        {
          "output_type": "stream",
          "name": "stdout",
          "text": [
            "Model: \"sequential_1\"\n",
            "_________________________________________________________________\n",
            " Layer (type)                Output Shape              Param #   \n",
            "=================================================================\n",
            " dense_3 (Dense)             (None, 32)                25120     \n",
            "                                                                 \n",
            " dense_4 (Dense)             (None, 8)                 264       \n",
            "                                                                 \n",
            " dense_5 (Dense)             (None, 16)                144       \n",
            "                                                                 \n",
            " dense_6 (Dense)             (None, 10)                170       \n",
            "                                                                 \n",
            "=================================================================\n",
            "Total params: 25,698\n",
            "Trainable params: 25,698\n",
            "Non-trainable params: 0\n",
            "_________________________________________________________________\n"
          ]
        }
      ]
    },
    {
      "cell_type": "markdown",
      "metadata": {
        "id": "Af2c2tvKzp5f"
      },
      "source": [
        "- Our network consists of a sequence of two *Dense* layers, which are densely connected (also called *fully connected*) neural layers.\n",
        "- The second (and last) layer is a **10-way** *softmax* layer, which means it will return an array of **10** probability scores. Each score will be the probability that the current digit image belongs to one of our 10 digit classes. "
      ]
    },
    {
      "cell_type": "markdown",
      "metadata": {
        "id": "NHbqJ-rWzp5g"
      },
      "source": [
        "# The compilation step"
      ]
    },
    {
      "cell_type": "markdown",
      "metadata": {
        "id": "1w0ne5wYzp5h"
      },
      "source": [
        "- To make the network ready for training, we need to pick three more things, as part of the **compilation** step:\n",
        " - **A loss function**-- How the network will be able to measure its performance on the training data, and thus how it will be able to steer itself in the right direction.\n",
        " - **An optimizer**--The mechanism through which the network will update itself based on the data it sees and its loss function.\n",
        " - **Metrics to monitor during training and testing**--Here, we will only care about accuracy (the fraction of the images that were correctly classified)."
      ]
    },
    {
      "cell_type": "code",
      "metadata": {
        "id": "uvSO-q9Ozp5i"
      },
      "source": [
        "network.compile(optimizer='sgd',\n",
        "                loss='categorical_crossentropy',\n",
        "                metrics=['accuracy'])\n",
        "    "
      ],
      "execution_count": 12,
      "outputs": []
    },
    {
      "cell_type": "markdown",
      "metadata": {
        "id": "fLHJqTLXzp5o"
      },
      "source": [
        "# Preparing the image data"
      ]
    },
    {
      "cell_type": "markdown",
      "metadata": {
        "id": "ajWKVl1-zp5q"
      },
      "source": [
        "Before training, we will preprocess the data by reshaping it into the shape the network expects and scaling it so that all values are in the $[0-1]$ interval."
      ]
    },
    {
      "cell_type": "code",
      "metadata": {
        "id": "4vMdz75Wzp5s"
      },
      "source": [
        "train_images = train_images.reshape((60000, 28 * 28))\n",
        "train_images = train_images.astype('float32') / 255."
      ],
      "execution_count": 13,
      "outputs": []
    },
    {
      "cell_type": "code",
      "metadata": {
        "id": "4icW7vDgzp5w"
      },
      "source": [
        "test_images = test_images.reshape((10000, 28 * 28))\n",
        "test_images = test_images.astype('float32') / 255."
      ],
      "execution_count": 14,
      "outputs": []
    },
    {
      "cell_type": "markdown",
      "metadata": {
        "id": "0SHD8Vvhzp5z"
      },
      "source": [
        "# Preparing the labels"
      ]
    },
    {
      "cell_type": "markdown",
      "metadata": {
        "id": "JA1YmuF1zp51"
      },
      "source": [
        "We also need to categorically encode the labels."
      ]
    },
    {
      "cell_type": "code",
      "metadata": {
        "id": "Bh42ABtgzp58"
      },
      "source": [
        "from keras.utils import to_categorical"
      ],
      "execution_count": 15,
      "outputs": []
    },
    {
      "cell_type": "code",
      "metadata": {
        "id": "3eCqlapJzp6A",
        "colab": {
          "base_uri": "https://localhost:8080/"
        },
        "outputId": "a4e2ac04-01df-432b-d3bf-d1c9ba533600"
      },
      "source": [
        "train_labels = to_categorical(train_labels)\n",
        "train_labels"
      ],
      "execution_count": 16,
      "outputs": [
        {
          "output_type": "execute_result",
          "data": {
            "text/plain": [
              "array([[0., 0., 0., ..., 0., 0., 0.],\n",
              "       [1., 0., 0., ..., 0., 0., 0.],\n",
              "       [0., 0., 0., ..., 0., 0., 0.],\n",
              "       ...,\n",
              "       [0., 0., 0., ..., 0., 0., 0.],\n",
              "       [0., 0., 0., ..., 0., 0., 0.],\n",
              "       [0., 0., 0., ..., 0., 1., 0.]], dtype=float32)"
            ]
          },
          "metadata": {},
          "execution_count": 16
        }
      ]
    },
    {
      "cell_type": "code",
      "metadata": {
        "id": "wWXDQKNBzp6E",
        "colab": {
          "base_uri": "https://localhost:8080/"
        },
        "outputId": "e913e230-ce6c-4b3e-c43f-00531924885f"
      },
      "source": [
        "test_labels = to_categorical(test_labels)\n",
        "test_labels"
      ],
      "execution_count": 17,
      "outputs": [
        {
          "output_type": "execute_result",
          "data": {
            "text/plain": [
              "array([[0., 0., 0., ..., 1., 0., 0.],\n",
              "       [0., 0., 1., ..., 0., 0., 0.],\n",
              "       [0., 1., 0., ..., 0., 0., 0.],\n",
              "       ...,\n",
              "       [0., 0., 0., ..., 0., 0., 0.],\n",
              "       [0., 0., 0., ..., 0., 0., 0.],\n",
              "       [0., 0., 0., ..., 0., 0., 0.]], dtype=float32)"
            ]
          },
          "metadata": {},
          "execution_count": 17
        }
      ]
    },
    {
      "cell_type": "markdown",
      "metadata": {
        "id": "csJ7yQVxzp6I"
      },
      "source": [
        "# Training and Testing"
      ]
    },
    {
      "cell_type": "markdown",
      "metadata": {
        "id": "P-KLV-VIzp6K"
      },
      "source": [
        "We are now ready to train the network, which in Keras is done via a call to the network's fit method--we fit the model to its training data:"
      ]
    },
    {
      "cell_type": "code",
      "metadata": {
        "id": "sGWa7zXYzp6O",
        "colab": {
          "base_uri": "https://localhost:8080/"
        },
        "outputId": "1b9b5d05-84e9-4bfb-d0ff-3057c837e109"
      },
      "source": [
        "network.fit(train_images, train_labels, epochs=120, batch_size=32)"
      ],
      "execution_count": 18,
      "outputs": [
        {
          "output_type": "stream",
          "name": "stdout",
          "text": [
            "Epoch 1/120\n",
            "1875/1875 [==============================] - 10s 3ms/step - loss: 2.3199 - accuracy: 0.1115\n",
            "Epoch 2/120\n",
            "1875/1875 [==============================] - 5s 3ms/step - loss: 2.2938 - accuracy: 0.1255\n",
            "Epoch 3/120\n",
            "1875/1875 [==============================] - 6s 3ms/step - loss: 2.2864 - accuracy: 0.1433\n",
            "Epoch 4/120\n",
            "1875/1875 [==============================] - 6s 3ms/step - loss: 2.2721 - accuracy: 0.2089\n",
            "Epoch 5/120\n",
            "1875/1875 [==============================] - 7s 4ms/step - loss: 2.2370 - accuracy: 0.2695\n",
            "Epoch 6/120\n",
            "1875/1875 [==============================] - 5s 3ms/step - loss: 2.1428 - accuracy: 0.2862\n",
            "Epoch 7/120\n",
            "1875/1875 [==============================] - 6s 3ms/step - loss: 1.9753 - accuracy: 0.3056\n",
            "Epoch 8/120\n",
            "1875/1875 [==============================] - 6s 3ms/step - loss: 1.8383 - accuracy: 0.3429\n",
            "Epoch 9/120\n",
            "1875/1875 [==============================] - 6s 3ms/step - loss: 1.7398 - accuracy: 0.3744\n",
            "Epoch 10/120\n",
            "1875/1875 [==============================] - 6s 3ms/step - loss: 1.6288 - accuracy: 0.4115\n",
            "Epoch 11/120\n",
            "1875/1875 [==============================] - 6s 3ms/step - loss: 1.5126 - accuracy: 0.4454\n",
            "Epoch 12/120\n",
            "1875/1875 [==============================] - 6s 3ms/step - loss: 1.4071 - accuracy: 0.4806\n",
            "Epoch 13/120\n",
            "1875/1875 [==============================] - 6s 3ms/step - loss: 1.3098 - accuracy: 0.5222\n",
            "Epoch 14/120\n",
            "1875/1875 [==============================] - 6s 3ms/step - loss: 1.2238 - accuracy: 0.5633\n",
            "Epoch 15/120\n",
            "1875/1875 [==============================] - 6s 3ms/step - loss: 1.1478 - accuracy: 0.6087\n",
            "Epoch 16/120\n",
            "1875/1875 [==============================] - 6s 3ms/step - loss: 1.0739 - accuracy: 0.6595\n",
            "Epoch 17/120\n",
            "1875/1875 [==============================] - 6s 3ms/step - loss: 0.9947 - accuracy: 0.7132\n",
            "Epoch 18/120\n",
            "1875/1875 [==============================] - 6s 3ms/step - loss: 0.9101 - accuracy: 0.7539\n",
            "Epoch 19/120\n",
            "1875/1875 [==============================] - 6s 3ms/step - loss: 0.8265 - accuracy: 0.7836\n",
            "Epoch 20/120\n",
            "1875/1875 [==============================] - 6s 3ms/step - loss: 0.7507 - accuracy: 0.8077\n",
            "Epoch 21/120\n",
            "1875/1875 [==============================] - 6s 3ms/step - loss: 0.6856 - accuracy: 0.8267\n",
            "Epoch 22/120\n",
            "1875/1875 [==============================] - 6s 3ms/step - loss: 0.6313 - accuracy: 0.8422\n",
            "Epoch 23/120\n",
            "1875/1875 [==============================] - 5s 3ms/step - loss: 0.5858 - accuracy: 0.8537\n",
            "Epoch 24/120\n",
            "1875/1875 [==============================] - 7s 4ms/step - loss: 0.5475 - accuracy: 0.8633\n",
            "Epoch 25/120\n",
            "1875/1875 [==============================] - 6s 3ms/step - loss: 0.5143 - accuracy: 0.8719\n",
            "Epoch 26/120\n",
            "1875/1875 [==============================] - 6s 3ms/step - loss: 0.4852 - accuracy: 0.8799\n",
            "Epoch 27/120\n",
            "1875/1875 [==============================] - 6s 3ms/step - loss: 0.4595 - accuracy: 0.8863\n",
            "Epoch 28/120\n",
            "1875/1875 [==============================] - 6s 3ms/step - loss: 0.4361 - accuracy: 0.8917\n",
            "Epoch 29/120\n",
            "1875/1875 [==============================] - 5s 3ms/step - loss: 0.4152 - accuracy: 0.8965\n",
            "Epoch 30/120\n",
            "1875/1875 [==============================] - 6s 3ms/step - loss: 0.3962 - accuracy: 0.9008\n",
            "Epoch 31/120\n",
            "1875/1875 [==============================] - 6s 3ms/step - loss: 0.3791 - accuracy: 0.9053\n",
            "Epoch 32/120\n",
            "1875/1875 [==============================] - 6s 3ms/step - loss: 0.3634 - accuracy: 0.9090\n",
            "Epoch 33/120\n",
            "1875/1875 [==============================] - 6s 3ms/step - loss: 0.3494 - accuracy: 0.9125\n",
            "Epoch 34/120\n",
            "1875/1875 [==============================] - 6s 3ms/step - loss: 0.3362 - accuracy: 0.9151\n",
            "Epoch 35/120\n",
            "1875/1875 [==============================] - 6s 3ms/step - loss: 0.3242 - accuracy: 0.9181\n",
            "Epoch 36/120\n",
            "1875/1875 [==============================] - 5s 3ms/step - loss: 0.3133 - accuracy: 0.9206\n",
            "Epoch 37/120\n",
            "1875/1875 [==============================] - 6s 3ms/step - loss: 0.3033 - accuracy: 0.9227\n",
            "Epoch 38/120\n",
            "1875/1875 [==============================] - 6s 3ms/step - loss: 0.2938 - accuracy: 0.9249\n",
            "Epoch 39/120\n",
            "1875/1875 [==============================] - 7s 4ms/step - loss: 0.2852 - accuracy: 0.9271\n",
            "Epoch 40/120\n",
            "1875/1875 [==============================] - 6s 3ms/step - loss: 0.2768 - accuracy: 0.9292\n",
            "Epoch 41/120\n",
            "1875/1875 [==============================] - 6s 3ms/step - loss: 0.2695 - accuracy: 0.9307\n",
            "Epoch 42/120\n",
            "1875/1875 [==============================] - 6s 3ms/step - loss: 0.2624 - accuracy: 0.9324\n",
            "Epoch 43/120\n",
            "1875/1875 [==============================] - 6s 3ms/step - loss: 0.2554 - accuracy: 0.9337\n",
            "Epoch 44/120\n",
            "1875/1875 [==============================] - 5s 3ms/step - loss: 0.2492 - accuracy: 0.9354\n",
            "Epoch 45/120\n",
            "1875/1875 [==============================] - 6s 3ms/step - loss: 0.2434 - accuracy: 0.9366\n",
            "Epoch 46/120\n",
            "1875/1875 [==============================] - 6s 3ms/step - loss: 0.2378 - accuracy: 0.9384\n",
            "Epoch 47/120\n",
            "1875/1875 [==============================] - 6s 3ms/step - loss: 0.2325 - accuracy: 0.9393\n",
            "Epoch 48/120\n",
            "1875/1875 [==============================] - 6s 3ms/step - loss: 0.2274 - accuracy: 0.9401\n",
            "Epoch 49/120\n",
            "1875/1875 [==============================] - 6s 3ms/step - loss: 0.2227 - accuracy: 0.9416\n",
            "Epoch 50/120\n",
            "1875/1875 [==============================] - 6s 3ms/step - loss: 0.2182 - accuracy: 0.9426\n",
            "Epoch 51/120\n",
            "1875/1875 [==============================] - 6s 3ms/step - loss: 0.2138 - accuracy: 0.9431\n",
            "Epoch 52/120\n",
            "1875/1875 [==============================] - 6s 3ms/step - loss: 0.2096 - accuracy: 0.9444\n",
            "Epoch 53/120\n",
            "1875/1875 [==============================] - 6s 3ms/step - loss: 0.2057 - accuracy: 0.9455\n",
            "Epoch 54/120\n",
            "1875/1875 [==============================] - 6s 3ms/step - loss: 0.2020 - accuracy: 0.9469\n",
            "Epoch 55/120\n",
            "1875/1875 [==============================] - 5s 3ms/step - loss: 0.1983 - accuracy: 0.9476\n",
            "Epoch 56/120\n",
            "1875/1875 [==============================] - 6s 3ms/step - loss: 0.1948 - accuracy: 0.9486\n",
            "Epoch 57/120\n",
            "1875/1875 [==============================] - 6s 3ms/step - loss: 0.1916 - accuracy: 0.9493\n",
            "Epoch 58/120\n",
            "1875/1875 [==============================] - 6s 3ms/step - loss: 0.1883 - accuracy: 0.9504\n",
            "Epoch 59/120\n",
            "1875/1875 [==============================] - 6s 3ms/step - loss: 0.1852 - accuracy: 0.9512\n",
            "Epoch 60/120\n",
            "1875/1875 [==============================] - 6s 3ms/step - loss: 0.1823 - accuracy: 0.9519\n",
            "Epoch 61/120\n",
            "1875/1875 [==============================] - 5s 3ms/step - loss: 0.1794 - accuracy: 0.9531\n",
            "Epoch 62/120\n",
            "1875/1875 [==============================] - 6s 3ms/step - loss: 0.1766 - accuracy: 0.9535\n",
            "Epoch 63/120\n",
            "1875/1875 [==============================] - 5s 3ms/step - loss: 0.1740 - accuracy: 0.9543\n",
            "Epoch 64/120\n",
            "1875/1875 [==============================] - 6s 3ms/step - loss: 0.1715 - accuracy: 0.9547\n",
            "Epoch 65/120\n",
            "1875/1875 [==============================] - 5s 3ms/step - loss: 0.1688 - accuracy: 0.9553\n",
            "Epoch 66/120\n",
            "1875/1875 [==============================] - 6s 3ms/step - loss: 0.1667 - accuracy: 0.9561\n",
            "Epoch 67/120\n",
            "1875/1875 [==============================] - 6s 3ms/step - loss: 0.1642 - accuracy: 0.9569\n",
            "Epoch 68/120\n",
            "1875/1875 [==============================] - 7s 4ms/step - loss: 0.1620 - accuracy: 0.9574\n",
            "Epoch 69/120\n",
            "1875/1875 [==============================] - 6s 3ms/step - loss: 0.1600 - accuracy: 0.9578\n",
            "Epoch 70/120\n",
            "1875/1875 [==============================] - 6s 3ms/step - loss: 0.1578 - accuracy: 0.9586\n",
            "Epoch 71/120\n",
            "1875/1875 [==============================] - 6s 3ms/step - loss: 0.1558 - accuracy: 0.9590\n",
            "Epoch 72/120\n",
            "1875/1875 [==============================] - 6s 3ms/step - loss: 0.1538 - accuracy: 0.9598\n",
            "Epoch 73/120\n",
            "1875/1875 [==============================] - 6s 3ms/step - loss: 0.1518 - accuracy: 0.9601\n",
            "Epoch 74/120\n",
            "1875/1875 [==============================] - 6s 3ms/step - loss: 0.1500 - accuracy: 0.9606\n",
            "Epoch 75/120\n",
            "1875/1875 [==============================] - 6s 3ms/step - loss: 0.1482 - accuracy: 0.9611\n",
            "Epoch 76/120\n",
            "1875/1875 [==============================] - 5s 3ms/step - loss: 0.1463 - accuracy: 0.9617\n",
            "Epoch 77/120\n",
            "1875/1875 [==============================] - 6s 3ms/step - loss: 0.1447 - accuracy: 0.9618\n",
            "Epoch 78/120\n",
            "1875/1875 [==============================] - 5s 3ms/step - loss: 0.1432 - accuracy: 0.9624\n",
            "Epoch 79/120\n",
            "1875/1875 [==============================] - 6s 3ms/step - loss: 0.1415 - accuracy: 0.9632\n",
            "Epoch 80/120\n",
            "1875/1875 [==============================] - 5s 3ms/step - loss: 0.1399 - accuracy: 0.9642\n",
            "Epoch 81/120\n",
            "1875/1875 [==============================] - 6s 3ms/step - loss: 0.1383 - accuracy: 0.9641\n",
            "Epoch 82/120\n",
            "1875/1875 [==============================] - 6s 3ms/step - loss: 0.1368 - accuracy: 0.9644\n",
            "Epoch 83/120\n",
            "1875/1875 [==============================] - 6s 3ms/step - loss: 0.1353 - accuracy: 0.9651\n",
            "Epoch 84/120\n",
            "1875/1875 [==============================] - 5s 3ms/step - loss: 0.1339 - accuracy: 0.9651\n",
            "Epoch 85/120\n",
            "1875/1875 [==============================] - 6s 3ms/step - loss: 0.1324 - accuracy: 0.9657\n",
            "Epoch 86/120\n",
            "1875/1875 [==============================] - 6s 3ms/step - loss: 0.1311 - accuracy: 0.9660\n",
            "Epoch 87/120\n",
            "1875/1875 [==============================] - 6s 3ms/step - loss: 0.1299 - accuracy: 0.9662\n",
            "Epoch 88/120\n",
            "1875/1875 [==============================] - 6s 3ms/step - loss: 0.1285 - accuracy: 0.9664\n",
            "Epoch 89/120\n",
            "1875/1875 [==============================] - 5s 3ms/step - loss: 0.1273 - accuracy: 0.9667\n",
            "Epoch 90/120\n",
            "1875/1875 [==============================] - 6s 3ms/step - loss: 0.1261 - accuracy: 0.9669\n",
            "Epoch 91/120\n",
            "1875/1875 [==============================] - 6s 3ms/step - loss: 0.1248 - accuracy: 0.9674\n",
            "Epoch 92/120\n",
            "1875/1875 [==============================] - 6s 3ms/step - loss: 0.1236 - accuracy: 0.9673\n",
            "Epoch 93/120\n",
            "1875/1875 [==============================] - 6s 3ms/step - loss: 0.1224 - accuracy: 0.9681\n",
            "Epoch 94/120\n",
            "1875/1875 [==============================] - 6s 3ms/step - loss: 0.1212 - accuracy: 0.9685\n",
            "Epoch 95/120\n",
            "1875/1875 [==============================] - 5s 3ms/step - loss: 0.1201 - accuracy: 0.9688\n",
            "Epoch 96/120\n",
            "1875/1875 [==============================] - 6s 3ms/step - loss: 0.1190 - accuracy: 0.9688\n",
            "Epoch 97/120\n",
            "1875/1875 [==============================] - 6s 3ms/step - loss: 0.1179 - accuracy: 0.9691\n",
            "Epoch 98/120\n",
            "1875/1875 [==============================] - 7s 4ms/step - loss: 0.1167 - accuracy: 0.9695\n",
            "Epoch 99/120\n",
            "1875/1875 [==============================] - 5s 3ms/step - loss: 0.1156 - accuracy: 0.9696\n",
            "Epoch 100/120\n",
            "1875/1875 [==============================] - 6s 3ms/step - loss: 0.1148 - accuracy: 0.9698\n",
            "Epoch 101/120\n",
            "1875/1875 [==============================] - 5s 3ms/step - loss: 0.1137 - accuracy: 0.9704\n",
            "Epoch 102/120\n",
            "1875/1875 [==============================] - 6s 3ms/step - loss: 0.1126 - accuracy: 0.9706\n",
            "Epoch 103/120\n",
            "1875/1875 [==============================] - 6s 3ms/step - loss: 0.1118 - accuracy: 0.9704\n",
            "Epoch 104/120\n",
            "1875/1875 [==============================] - 6s 3ms/step - loss: 0.1106 - accuracy: 0.9710\n",
            "Epoch 105/120\n",
            "1875/1875 [==============================] - 6s 3ms/step - loss: 0.1099 - accuracy: 0.9714\n",
            "Epoch 106/120\n",
            "1875/1875 [==============================] - 6s 3ms/step - loss: 0.1089 - accuracy: 0.9715\n",
            "Epoch 107/120\n",
            "1875/1875 [==============================] - 6s 3ms/step - loss: 0.1080 - accuracy: 0.9719\n",
            "Epoch 108/120\n",
            "1875/1875 [==============================] - 5s 3ms/step - loss: 0.1070 - accuracy: 0.9722\n",
            "Epoch 109/120\n",
            "1875/1875 [==============================] - 6s 3ms/step - loss: 0.1062 - accuracy: 0.9724\n",
            "Epoch 110/120\n",
            "1875/1875 [==============================] - 5s 3ms/step - loss: 0.1053 - accuracy: 0.9723\n",
            "Epoch 111/120\n",
            "1875/1875 [==============================] - 6s 3ms/step - loss: 0.1045 - accuracy: 0.9727\n",
            "Epoch 112/120\n",
            "1875/1875 [==============================] - 6s 3ms/step - loss: 0.1037 - accuracy: 0.9728\n",
            "Epoch 113/120\n",
            "1875/1875 [==============================] - 6s 3ms/step - loss: 0.1028 - accuracy: 0.9731\n",
            "Epoch 114/120\n",
            "1875/1875 [==============================] - 5s 3ms/step - loss: 0.1019 - accuracy: 0.9733\n",
            "Epoch 115/120\n",
            "1875/1875 [==============================] - 6s 3ms/step - loss: 0.1013 - accuracy: 0.9735\n",
            "Epoch 116/120\n",
            "1875/1875 [==============================] - 5s 3ms/step - loss: 0.1004 - accuracy: 0.9736\n",
            "Epoch 117/120\n",
            "1875/1875 [==============================] - 6s 3ms/step - loss: 0.0996 - accuracy: 0.9741\n",
            "Epoch 118/120\n",
            "1875/1875 [==============================] - 6s 3ms/step - loss: 0.0989 - accuracy: 0.9744\n",
            "Epoch 119/120\n",
            "1875/1875 [==============================] - 5s 3ms/step - loss: 0.0981 - accuracy: 0.9747\n",
            "Epoch 120/120\n",
            "1875/1875 [==============================] - 6s 3ms/step - loss: 0.0973 - accuracy: 0.9747\n"
          ]
        },
        {
          "output_type": "execute_result",
          "data": {
            "text/plain": [
              "<keras.callbacks.History at 0x7fb1c9f00e50>"
            ]
          },
          "metadata": {},
          "execution_count": 18
        }
      ]
    },
    {
      "cell_type": "markdown",
      "metadata": {
        "id": "heVasO26zp6V"
      },
      "source": [
        "- Two quantities are displayed during training:\n",
        "    - The loss of the network over the training data\n",
        "    - The accuracy of the network over the training data\n",
        "    \n",
        "- We quickly reach an accuracy of **$0.9886 (98.86\\%)$** on the training data."
      ]
    },
    {
      "cell_type": "markdown",
      "metadata": {
        "id": "0eDaNGAYzp6X"
      },
      "source": [
        "- Now let's check that the model performs well on the test set, too:"
      ]
    },
    {
      "cell_type": "code",
      "metadata": {
        "id": "2-UhmyTWzp6Y",
        "colab": {
          "base_uri": "https://localhost:8080/"
        },
        "outputId": "86f9d91a-2926-4906-e90f-7b653468520c"
      },
      "source": [
        "test_loss, test_acc = network.evaluate(test_images, test_labels)"
      ],
      "execution_count": 19,
      "outputs": [
        {
          "output_type": "stream",
          "name": "stdout",
          "text": [
            "313/313 [==============================] - 1s 2ms/step - loss: 0.1589 - accuracy: 0.9581\n"
          ]
        }
      ]
    },
    {
      "cell_type": "code",
      "metadata": {
        "id": "omz-cZXLzp6d",
        "colab": {
          "base_uri": "https://localhost:8080/"
        },
        "outputId": "2e573554-0f6b-4ac2-825c-d14c6ea5ab70"
      },
      "source": [
        "print('Test Accuracy: {:.5f} '.format(test_acc))"
      ],
      "execution_count": 20,
      "outputs": [
        {
          "output_type": "stream",
          "name": "stdout",
          "text": [
            "Test Accuracy: 0.95810 \n"
          ]
        }
      ]
    },
    {
      "cell_type": "code",
      "metadata": {
        "id": "cbIp64KFzp6g",
        "colab": {
          "base_uri": "https://localhost:8080/"
        },
        "outputId": "6d5d2b27-47be-4abb-f1d4-b2d897ce5742"
      },
      "source": [
        "test_acc"
      ],
      "execution_count": 21,
      "outputs": [
        {
          "output_type": "execute_result",
          "data": {
            "text/plain": [
              "0.9581000208854675"
            ]
          },
          "metadata": {},
          "execution_count": 21
        }
      ]
    },
    {
      "cell_type": "markdown",
      "metadata": {
        "id": "yi5jDr-0zp6k"
      },
      "source": [
        "- The test-set accuracy turns out to be $97.780\\%$--that is quite a bit lower than the training set accuracy. This gap between training and test accuracy is an example of **overfitting**:the fact that the ML models tend to perform worse on new data than on their training data."
      ]
    },
    {
      "cell_type": "code",
      "metadata": {
        "id": "JOu1IQW6zp6l",
        "colab": {
          "base_uri": "https://localhost:8080/",
          "height": 466
        },
        "outputId": "65242727-1e1c-4b2a-e512-c0a1fa74c3e5"
      },
      "source": [
        "from keras.utils import plot_model\n",
        "plot_model(network, to_file='model.png')"
      ],
      "execution_count": 22,
      "outputs": [
        {
          "output_type": "execute_result",
          "data": {
            "image/png": "[encoded data removed]",
            "text/plain": [
              "<IPython.core.display.Image object>"
            ]
          },
          "metadata": {},
          "execution_count": 22
        }
      ]
    },
    {
      "cell_type": "code",
      "metadata": {
        "id": "LVvUxpAkOQuz",
        "colab": {
          "base_uri": "https://localhost:8080/",
          "height": 769
        },
        "outputId": "91256f63-1032-4ba4-c96c-106c7db14b4a"
      },
      "source": [
        "import matplotlib.pyplot as plt\n",
        "history =network.fit(train_images, train_labels, validation_split=0.33,epochs=5, batch_size=512)\n",
        "history_dict = history.history\n",
        "print(history_dict.keys())\n",
        "plt.plot(history.history['accuracy'])\n",
        "plt.plot(history.history['val_accuracy'])\n",
        "plt.title('Model accuracy')\n",
        "plt.ylabel('Accuracy')\n",
        "plt.xlabel('Epoch')\n",
        "plt.legend(['Train', 'Test'], loc='upper left')\n",
        "plt.show()\n",
        "\n",
        "# Plot training & validation loss values\n",
        "plt.plot(history.history['loss'])\n",
        "plt.plot(history.history['val_loss'])\n",
        "plt.title('Model loss')\n",
        "plt.ylabel('Loss')\n",
        "plt.xlabel('Epoch')\n",
        "plt.legend(['Train', 'Test'], loc='upper left')\n",
        "plt.show()"
      ],
      "execution_count": 23,
      "outputs": [
        {
          "output_type": "stream",
          "name": "stdout",
          "text": [
            "Epoch 1/5\n",
            "79/79 [==============================] - 1s 7ms/step - loss: 0.0948 - accuracy: 0.9755 - val_loss: 0.0947 - val_accuracy: 0.9760\n",
            "Epoch 2/5\n",
            "79/79 [==============================] - 0s 6ms/step - loss: 0.0944 - accuracy: 0.9752 - val_loss: 0.0948 - val_accuracy: 0.9761\n",
            "Epoch 3/5\n",
            "79/79 [==============================] - 0s 6ms/step - loss: 0.0943 - accuracy: 0.9754 - val_loss: 0.0949 - val_accuracy: 0.9761\n",
            "Epoch 4/5\n",
            "79/79 [==============================] - 0s 6ms/step - loss: 0.0941 - accuracy: 0.9754 - val_loss: 0.0950 - val_accuracy: 0.9761\n",
            "Epoch 5/5\n",
            "79/79 [==============================] - 0s 5ms/step - loss: 0.0940 - accuracy: 0.9756 - val_loss: 0.0952 - val_accuracy: 0.9763\n",
            "dict_keys(['loss', 'accuracy', 'val_loss', 'val_accuracy'])\n"
          ]
        },
        {
          "output_type": "display_data",
          "data": {
            "text/plain": [
              "<Figure size 432x288 with 1 Axes>"
            ],
            "image/png": "[encoded data removed]"
          },
          "metadata": {
            "needs_background": "light"
          }
        },
        {
          "output_type": "display_data",
          "data": {
            "text/plain": [
              "<Figure size 432x288 with 1 Axes>"
            ],
            "image/png": "[encoded data removed]"
          },
          "metadata": {
            "needs_background": "light"
          }
        }
      ]
    }
  ]
}